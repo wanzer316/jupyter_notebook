{
 "cells": [
  {
   "cell_type": "markdown",
   "metadata": {},
   "source": [
    "1. 斐波那契数列(Fibonacci): f(n) = f(n-1)+f(n-2)  where f(1)=1  f(2)=1"
   ]
  },
  {
   "cell_type": "code",
   "execution_count": 15,
   "metadata": {
    "collapsed": true
   },
   "outputs": [],
   "source": [
    "import time\n",
    "#思路一：动态规划，自低向上,时间复杂度和空间复杂度都为O(n)\n",
    "def fibonacci_dynamic(n):\n",
    "    arr = [0]*(n+1)\n",
    "    arr[1] = 1\n",
    "    for i in range(2,n+1):\n",
    "        arr[i] = arr[i-1]+arr[i-2]\n",
    "    return arr[n]\n",
    "#动态规划的改进，空间复杂度为O(1)\n",
    "def fibnacci_dynamic2(n):\n",
    "    num1 = 0\n",
    "    num2 = 1\n",
    "    sum = 0\n",
    "    if n <= 0:\n",
    "        return 0\n",
    "    elif n == 1:\n",
    "        return 1\n",
    "    for i in range(2,n+1):\n",
    "        sum = num1 + num2\n",
    "        num1 = num2\n",
    "        num2 = sum\n",
    "    return sum\n",
    "\n",
    "#思路二：递归\n",
    "def fibonacci_recursion(n):\n",
    "    if n <= 0:\n",
    "        return 0\n",
    "    elif n == 1:\n",
    "        return 1\n",
    "    return fibonacci_recursion(n-1)+fibonacci_recursion(n-2)\n"
   ]
  },
  {
   "cell_type": "markdown",
   "metadata": {},
   "source": [
    "思路三，矩阵乘法,矩阵乘法思路，如果是偶数A^2k=A^k * A^k，因此时间复杂度为O(lgn) \n",
    "![title](img/fibnacci1.png)"
   ]
  },
  {
   "cell_type": "code",
   "execution_count": 56,
   "metadata": {
    "collapsed": true
   },
   "outputs": [],
   "source": [
    "#求解之前看python实现快速幂计算\n",
    "class Solution:\n",
    "    def myPow(self, x: float, n: int) -> float:\n",
    "        def quickMul(N):\n",
    "            if N == 0:\n",
    "                return 1.0\n",
    "            y = quickMul(N // 2)\n",
    "            return y * y if N % 2 == 0 else y * y * x  #递归思想理解，在求幂次方的时候会遇到例如2^1,2^2,2^5等奇数幂，\n",
    "                                                          #这些计算的时候都是需要乘以本身的\n",
    "        \n",
    "        return quickMul(n) if n >= 0 else 1.0 / quickMul(-n)\n",
    "\n",
    "class Solution:\n",
    "    def myPow(self, x: float, n: int) -> float:\n",
    "        def quickMul(N):\n",
    "            ans = 1.0\n",
    "            # 贡献的初始值为 x\n",
    "            x_contribute = x\n",
    "            # 在对 N 进行二进制拆分的同时计算答案\n",
    "            while N > 0:\n",
    "                if N % 2 == 1:\n",
    "                    # 如果 N 二进制表示的最低位为 1，那么需要计入贡献\n",
    "                    ans *= x_contribute\n",
    "                # 将贡献不断地平方\n",
    "                x_contribute *= x_contribute\n",
    "                # 舍弃 N 二进制表示的最低位，这样我们每次只要判断最低位即可\n",
    "                N //= 2\n",
    "            return ans\n",
    "        \n",
    "        return quickMul(n) if n >= 0 else 1.0 / quickMul(-n)\n",
    "                "
   ]
  },
  {
   "cell_type": "code",
   "execution_count": 57,
   "metadata": {
    "collapsed": true
   },
   "outputs": [],
   "source": [
    "from typing import List\n",
    "\n",
    "def matrix_multiply(a: List[List[int]], b: List[List[int]]) -> List[List[int]]:\n",
    "    c = [[0, 0], [0, 0]]\n",
    "    for i in range(2):\n",
    "        for j in range(2):\n",
    "            c[i][j] = a[i][0] * b[0][j] + a[i][1] * b[1][j]\n",
    "    return c\n",
    "    \n",
    "def matrix_pow(a:List[List[int]], n:int) -> List[List[int]]:\n",
    "    ret = [[1,0],[0,1]]  #初始化一个矩阵，矩阵的第一行代表fib值，第二行初始化为0\n",
    "    while n > 0:\n",
    "        if n & 1: #按位与计算  奇数 == n%2\n",
    "            ret = matrix_multiply(ret,a)\n",
    "        n >>= 1 #等价于 //= 整除\n",
    "        a = matrix_multiply(a, a)\n",
    "        \n",
    "    return ret\n",
    "\n",
    "def fib(n: int) -> int:\n",
    "    if n < 2:\n",
    "        return n\n",
    "\n",
    "    q = [[1, 1], [1, 0]]\n",
    "    res =matrix_pow(q, n - 1)\n",
    "    return res[0][0]\n",
    "\n"
   ]
  },
  {
   "cell_type": "markdown",
   "metadata": {},
   "source": [
    "思路四：通项公式求解\n",
    "参考：https://zhuanlan.zhihu.com/p/26679684"
   ]
  },
  {
   "cell_type": "code",
   "execution_count": 58,
   "metadata": {
    "collapsed": true
   },
   "outputs": [],
   "source": [
    "class Solution:\n",
    "    def fib(self, n: int) -> int:\n",
    "        sqrt5 = 5**0.5\n",
    "        fibN = ((1 + sqrt5) / 2) ** n - ((1 - sqrt5) / 2) ** n\n",
    "        return round(fibN / sqrt5)"
   ]
  },
  {
   "cell_type": "markdown",
   "metadata": {},
   "source": [
    "*动态规划一般是求最值问题，求解动态规划的核心问题是穷举，但是不能暴力穷举，因为动态规划问题一般存在重叠子问题，因此需要DP table来优化存储，避免不必要的计算\n",
    "\n",
    "*动态规划问题一定具备最优子结构（终止条件）\n",
    "\n",
    "*只有列出状态转移方程才能进行正确穷举\n",
    "\n",
    "*思路为：明确 base case -> 明确「状态」-> 明确「选择」 -> 定义 dp 数组/函数的含义\n",
    "\n",
    "![title](img/dynamic.png)"
   ]
  },
  {
   "cell_type": "markdown",
   "metadata": {},
   "source": [
    "2.零钱兑换： 给定n，找到不同的将n写成1,3,4相加的方法\n",
    "\n",
    "思路：状态转移方程 D_n = D_n-1 + D_n-3 + D_n-4  初始值：D_0 = 1, D_1 = 1 , D_2 = 1, D_3 = 2"
   ]
  },
  {
   "cell_type": "code",
   "execution_count": 2,
   "metadata": {
    "collapsed": true
   },
   "outputs": [],
   "source": [
    "def coin(n):\n",
    "    dp = [0]*(n+1)\n",
    "    dp[0] = dp[1] = dp[2] = 1\n",
    "    dp[3] = 2\n",
    "    for i in range(4,n+1):\n",
    "        dp[i] = dp[i-1] + dp[i-3] + dp[i-4]\n",
    "    return dp[n]"
   ]
  },
  {
   "cell_type": "markdown",
   "metadata": {},
   "source": [
    "3.入室抢劫：每个房子里面都有一定数量的钱，限制条件是相邻的房子的警报系统是相邻的，如果抢劫相邻的房子就会触发警报，计算在不惊动警察的情况下抢劫最多的钱，用一个数组代表房子里面的钱\n",
    "  进阶问题：改房子是圆形的，最后一间房和第一间房是相邻的"
   ]
  },
  {
   "cell_type": "code",
   "execution_count": 2,
   "metadata": {},
   "outputs": [
    {
     "name": "stdout",
     "output_type": "stream",
     "text": [
      "12\n",
      "12\n"
     ]
    }
   ],
   "source": [
    "'''\n",
    "思路： 求最值可以肯定是动态规划问题\n",
    "       一个房子无非两种选择抢或者不抢，那么思路就是取当前此间房抢收益和不抢的收益最大值\n",
    "'''\n",
    "\n",
    "def rob(nums):\n",
    "    n = len(nums)\n",
    "    dp = [[0]*2 for _ in range(n+1)]\n",
    "    for i in range(1, n+1):\n",
    "        dp[i][0] = max(dp[i-1][0],dp[i-1][1])\n",
    "        dp[i][1] = nums[i-1]+dp[i-1][0]\n",
    "    return max(dp[i][0],dp[i][1])\n",
    "\n",
    "#改进：将空间复杂度降低为O（1）\n",
    "def rob2(nums):\n",
    "    yes,no=0,0\n",
    "    for i in nums:\n",
    "        no,yes = max(yes,no),i+no\n",
    "    return max(yes,no)\n",
    "\n",
    "nums = [2,7,9,3,1]\n",
    "print(rob(nums))\n",
    "print(rob2(nums))"
   ]
  },
  {
   "cell_type": "code",
   "execution_count": 8,
   "metadata": {},
   "outputs": [
    {
     "data": {
      "text/plain": [
       "11"
      ]
     },
     "execution_count": 8,
     "metadata": {},
     "output_type": "execute_result"
    }
   ],
   "source": [
    "#思路：抢第一个则不能抢最后一个，抢最后一个则不能抢第一个\n",
    "def rob(nums):\n",
    "    def rob(nums):\n",
    "        yes,no = 0,0\n",
    "        for i in nums:\n",
    "            no,yes = max(yes,no),i+no\n",
    "        return max(yes,no)\n",
    "    return max(rob(nums[:-1]),rob(nums[1:]))\n",
    "nums = [2,7,9,3,1]\n",
    "rob(nums)"
   ]
  },
  {
   "cell_type": "markdown",
   "metadata": {},
   "source": [
    "4.瓷砖问题：给定一块n*2的地板，瓷砖的大小为1*2，计算需要使用瓷砖的数量，此状可以水平放置1*2，也可以竖直放置2*1\n",
    "思路：动态规划问题，对于第n块，如果最后一块竖着放，则铺一块，如果最后横着放，则需要两块，因此第n块需要的瓷砖数量：dp[n]=dp[n-1]+dp[n-2]这就是斐波那契数列"
   ]
  },
  {
   "cell_type": "markdown",
   "metadata": {},
   "source": [
    "5.最小台阶问题：有一个台阶每次可以走一阶或者两阶，cost数组代表每一层所需的花费，可以从第0阶和第一阶开始走，登顶需要的最小花费\n",
    "思路： 找状态转移方程，dp[i] = min(dp[i-1]+cost[i-1], dp[i-2]+cost[i-2]) 注意第二层的花费计算的是第一层的,所以第一层的花费为0，第二层的花费为第一层的花费"
   ]
  },
  {
   "cell_type": "code",
   "execution_count": 1,
   "metadata": {},
   "outputs": [
    {
     "name": "stdout",
     "output_type": "stream",
     "text": [
      "6\n",
      "6\n"
     ]
    }
   ],
   "source": [
    "def min_cost(cost):\n",
    "    n = len(cost)+1\n",
    "    dp = [0]*n\n",
    "    for i in range(2,n):\n",
    "        dp[i] = min(dp[i-2]+cost[i-2], dp[i-1]+cost[i-1])\n",
    "    return dp[n-1]\n",
    "#上面的时间复杂度为O(n)，空间复杂度也为O(n),优化空间复杂度\n",
    "#考虑更新只用到了三个变量，走一层的，走两层和当前花费\n",
    "def min_cost2(cost):\n",
    "    n = len(cost)+1\n",
    "    dp0 ,dp1, dp2 = 0,0,0\n",
    "    for i in range(2,n):\n",
    "        dp2= min(dp0+cost[i-2],dp1+cost[i-1])\n",
    "        dp0,dp1 = dp1,dp2\n",
    "    return dp2\n",
    "cost = [1, 100, 1, 1, 1, 100, 1, 1, 100, 1]\n",
    "print(min_cost(cost))\n",
    "print(min_cost2(cost))\n"
   ]
  },
  {
   "cell_type": "markdown",
   "metadata": {},
   "source": [
    "6.解码方式"
   ]
  }
 ],
 "metadata": {
  "kernelspec": {
   "display_name": "Python 3",
   "language": "python",
   "name": "python3"
  },
  "language_info": {
   "codemirror_mode": {
    "name": "ipython",
    "version": 3
   },
   "file_extension": ".py",
   "mimetype": "text/x-python",
   "name": "python",
   "nbconvert_exporter": "python",
   "pygments_lexer": "ipython3",
   "version": "3.6.2"
  }
 },
 "nbformat": 4,
 "nbformat_minor": 4
}
